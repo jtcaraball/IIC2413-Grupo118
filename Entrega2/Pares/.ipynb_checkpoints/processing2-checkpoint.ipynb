{
 "cells": [
  {
   "cell_type": "code",
   "execution_count": 191,
   "metadata": {},
   "outputs": [],
   "source": [
    "import numpy as np\n",
    "import pandas as pd"
   ]
  },
  {
   "cell_type": "code",
   "execution_count": 192,
   "metadata": {},
   "outputs": [],
   "source": [
    "personal_orig = pd.read_csv('personal_buque.csv')\n",
    "buques_orig = pd.read_csv('buques.csv')\n",
    "buques_orig.rename(columns = {' nombre_naviera': 'nombre_naviera'}, inplace = True)\n",
    "itinerarios_orig = pd.read_csv('itinerarios.csv')"
   ]
  },
  {
   "cell_type": "code",
   "execution_count": 193,
   "metadata": {},
   "outputs": [],
   "source": [
    "Pais = buques_orig[['pais']]\n",
    "Pais = Pais.drop_duplicates()\n",
    "Pais = Pais.reset_index()\n",
    "Pais = Pais.reset_index()\n",
    "del Pais['index']\n",
    "Pais.rename(columns = {'level_0': 'pais_id', 'pais': 'pais_nombre'}, inplace = True)"
   ]
  },
  {
   "cell_type": "code",
   "execution_count": 194,
   "metadata": {},
   "outputs": [],
   "source": []
  },
  {
   "cell_type": "code",
   "execution_count": 195,
   "metadata": {},
   "outputs": [],
   "source": []
  },
  {
   "cell_type": "code",
   "execution_count": 196,
   "metadata": {},
   "outputs": [],
   "source": [
    "# Formamos la tabla Naviera\n",
    "Naviera = buques_orig[['nombre_naviera','pais_naviera', 'descripcion_naviera']]\n",
    "# Eliminamos filas duplicadas de naviera\n",
    "Naviera = Naviera.drop_duplicates()\n",
    "Naviera = Naviera.reset_index()\n",
    "Naviera = Naviera.reset_index()\n",
    "del Naviera['index']\n",
    "Naviera.rename(columns = {'level_0': 'nav_id'}, inplace = True)"
   ]
  },
  {
   "cell_type": "code",
   "execution_count": 197,
   "metadata": {},
   "outputs": [],
   "source": [
    "Naviera = Naviera.assign(pais_id=0)\n",
    "for i in range(len(Pais)):\n",
    "    pais_id = int(Pais.iloc[i][\"pais_id\"])\n",
    "    pais_nombre = Pais.iloc[i][\"pais_nombre\"]\n",
    "    for j in range(len(Naviera)):\n",
    "        if Naviera.iloc[j][\"pais_naviera\"] == pais_nombre:\n",
    "            Naviera[\"pais_id\"].iloc[j] = pais_id"
   ]
  },
  {
   "cell_type": "code",
   "execution_count": 198,
   "metadata": {},
   "outputs": [],
   "source": [
    "del Naviera['pais_naviera']"
   ]
  },
  {
   "cell_type": "code",
   "execution_count": 199,
   "metadata": {},
   "outputs": [],
   "source": [
    "Buque = buques_orig[['id_buque','nombre', 'patente', 'pais', 'nombre_naviera']]\n",
    "Buque = Buque.assign(nav_id=0)\n",
    "for i in range(len(Naviera)):\n",
    "    nav_id = int(Naviera.iloc[i][\"nav_id\"])\n",
    "    nav_nombre = Naviera.iloc[i][\"nombre_naviera\"]\n",
    "    for j in range(len(Buque)):\n",
    "        if Buque.iloc[j][\"nombre_naviera\"] == nav_nombre:\n",
    "            Buque[\"nav_id\"].iloc[j] = nav_id\n",
    "del Buque['nombre_naviera']"
   ]
  },
  {
   "cell_type": "code",
   "execution_count": 200,
   "metadata": {},
   "outputs": [],
   "source": [
    "Buque = Buque.assign(pais_id = 0)\n",
    "for i in range(len(Pais)):\n",
    "    pais_id = int(Pais.iloc[i][\"pais_id\"])\n",
    "    pais_nombre = Pais.iloc[i][\"pais_nombre\"]\n",
    "    for j in range(len(Buque)):\n",
    "        if Buque.iloc[j][\"pais\"] == pais_nombre:\n",
    "            Buque[\"pais_id\"].iloc[j] = pais_id\n",
    "del Buque['pais']"
   ]
  },
  {
   "cell_type": "code",
   "execution_count": 201,
   "metadata": {},
   "outputs": [],
   "source": [
    "Personal = personal_orig\n",
    "Personal = Personal.assign(cargo=\"trabajador\")\n",
    "for i in range(len(buques_orig)):\n",
    "    id_personal = int(buques_orig.iloc[i][\"id_capitan\"])\n",
    "    Personal[\"cargo\"].iloc[id_personal] = \"capitan\""
   ]
  },
  {
   "cell_type": "code",
   "execution_count": 202,
   "metadata": {},
   "outputs": [],
   "source": [
    "BuquePesquero = buques_orig[['id_buque','tipo', 'tipo_pesca']]\n",
    "indexNames = BuquePesquero[ BuquePesquero['tipo'] != 'pesquero' ].index\n",
    "BuquePesquero.drop(indexNames, inplace=True)\n",
    "del BuquePesquero[\"tipo\"]\n",
    "BuquePesquero = BuquePesquero.reset_index().reset_index()\n",
    "del BuquePesquero['index']\n",
    "BuquePesquero.rename(columns = {'level_0': 'bpes_id'}, inplace = True)"
   ]
  },
  {
   "cell_type": "code",
   "execution_count": 203,
   "metadata": {},
   "outputs": [],
   "source": [
    "BuqueCarga = buques_orig[['id_buque','tipo', 'max_containers', 'max_ton']]\n",
    "indexNames = BuqueCarga[ BuqueCarga['tipo'] != 'carga' ].index\n",
    "BuqueCarga.drop(indexNames, inplace=True)\n",
    "del BuqueCarga[\"tipo\"]\n",
    "BuqueCarga = BuqueCarga.astype({\"max_containers\": int, \"max_ton\": int})\n",
    "BuqueCarga = BuqueCarga.reset_index().reset_index()\n",
    "del BuqueCarga['index']\n",
    "BuqueCarga.rename(columns = {'level_0': 'bcar_id'}, inplace = True)"
   ]
  },
  {
   "cell_type": "code",
   "execution_count": 204,
   "metadata": {},
   "outputs": [],
   "source": [
    "BuquePetrolero = buques_orig[['id_buque','tipo', 'max_lit']]\n",
    "indexNames = BuquePetrolero[ BuquePetrolero['tipo'] != 'petrolero' ].index\n",
    "BuquePetrolero.drop(indexNames, inplace=True)\n",
    "del BuquePetrolero[\"tipo\"]\n",
    "BuquePetrolero = BuquePetrolero.astype({\"max_lit\": int})\n",
    "BuquePetrolero = BuquePetrolero.reset_index().reset_index()\n",
    "del BuquePetrolero['index']\n",
    "BuquePetrolero.rename(columns = {'level_0': 'bpet_id'}, inplace = True)"
   ]
  },
  {
   "cell_type": "code",
   "execution_count": 205,
   "metadata": {},
   "outputs": [],
   "source": [
    "Puerto = itinerarios_orig[['nombre_puerto']]\n",
    "Puerto = Puerto.drop_duplicates()\n",
    "Puerto = Puerto.reset_index().reset_index()\n",
    "del Puerto['index']\n",
    "Puerto.rename(columns = {'level_0': 'puerto_id'}, inplace = True)"
   ]
  },
  {
   "cell_type": "code",
   "execution_count": 206,
   "metadata": {},
   "outputs": [],
   "source": [
    "Atraque = itinerarios_orig[itinerarios_orig['fecha_salida'].notna()]\n",
    "Atraque = Atraque.reset_index().reset_index()\n",
    "del Atraque['index']\n",
    "Atraque.rename(columns = {'level_0': 'atraque_id'}, inplace = True)"
   ]
  },
  {
   "cell_type": "code",
   "execution_count": 207,
   "metadata": {},
   "outputs": [],
   "source": [
    "Atraque = Atraque.assign(puerto_id = 0)\n",
    "for i in range(len(Atraque)):\n",
    "    puerto_nombre = Atraque.iloc[i][\"nombre_puerto\"]\n",
    "    for j in range(len(Puerto)):\n",
    "        if Puerto.iloc[j][\"nombre_puerto\"] == puerto_nombre:\n",
    "            Atraque[\"puerto_id\"].iloc[i] = Puerto.iloc[j][\"puerto_id\"]\n",
    "            break\n",
    "del Atraque['nombre_puerto']"
   ]
  },
  {
   "cell_type": "code",
   "execution_count": 208,
   "metadata": {},
   "outputs": [],
   "source": [
    "Itinerario = itinerarios_orig[itinerarios_orig['fecha_salida'].isna()]\n",
    "del Itinerario[\"fecha_salida\"]\n",
    "Itinerario = Itinerario.reset_index().reset_index()\n",
    "del Itinerario['index']\n",
    "Itinerario.rename(columns = {'level_0': 'it_id'}, inplace = True)"
   ]
  },
  {
   "cell_type": "code",
   "execution_count": 209,
   "metadata": {},
   "outputs": [],
   "source": [
    "Itinerario = Itinerario.assign(puerto_id = 0)\n",
    "for i in range(len(Itinerario)):\n",
    "    puerto_nombre = Itinerario.iloc[i][\"nombre_puerto\"]\n",
    "    for j in range(len(Puerto)):\n",
    "        if Puerto.iloc[j][\"nombre_puerto\"] == puerto_nombre:\n",
    "            Itinerario[\"puerto_id\"].iloc[i] = Puerto.iloc[j][\"puerto_id\"]\n",
    "            break\n",
    "del Itinerario['nombre_puerto']"
   ]
  },
  {
   "cell_type": "code",
   "execution_count": 210,
   "metadata": {},
   "outputs": [],
   "source": [
    "Pais.to_csv('../tablas/Pais.csv', index=False)\n",
    "\n",
    "Naviera.to_csv('../tablas/Naviera.csv', index=False)\n",
    "Personal.to_csv('../tablas/Personal.csv', index=False)\n",
    "Buque.to_csv('../tablas/Buque.csv', index=False)\n",
    "\n",
    "BuquePesquero.to_csv('../tablas/BuquePesquero.csv', index=False)\n",
    "BuqueCarga.to_csv('../tablas/BuqueCarga.csv', index=False)\n",
    "BuquePetrolero.to_csv('../tablas/BuquePetrolero.csv', index=False)\n",
    "\n",
    "Puerto.to_csv('../tablas/Puerto.csv', index=False)\n",
    "\n",
    "Atraque.to_csv('../tablas/Atraque.csv', index=False)\n",
    "Itinerario.to_csv('../tablas/Itinerario.csv', index=False)"
   ]
  },
  {
   "cell_type": "code",
   "execution_count": null,
   "metadata": {},
   "outputs": [],
   "source": []
  },
  {
   "cell_type": "code",
   "execution_count": null,
   "metadata": {},
   "outputs": [],
   "source": []
  }
 ],
 "metadata": {
  "kernelspec": {
   "display_name": "Python 3",
   "language": "python",
   "name": "python3"
  },
  "language_info": {
   "codemirror_mode": {
    "name": "ipython",
    "version": 3
   },
   "file_extension": ".py",
   "mimetype": "text/x-python",
   "name": "python",
   "nbconvert_exporter": "python",
   "pygments_lexer": "ipython3",
   "version": "3.7.4"
  }
 },
 "nbformat": 4,
 "nbformat_minor": 2
}
