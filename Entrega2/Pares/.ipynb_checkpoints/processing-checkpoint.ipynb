{
 "cells": [
  {
   "cell_type": "code",
   "execution_count": 2,
   "metadata": {},
   "outputs": [],
   "source": [
    "import numpy as np\n",
    "import pandas as pd"
   ]
  },
  {
   "cell_type": "code",
   "execution_count": 3,
   "metadata": {},
   "outputs": [],
   "source": [
    "# Leemos archivo personal_buque.csv\n",
    "personal_orig = pd.read_csv('personal_buque.csv')\n",
    "#personal_orig.head(5)"
   ]
  },
  {
   "cell_type": "code",
   "execution_count": 4,
   "metadata": {},
   "outputs": [],
   "source": [
    "# Leemos archivo buques.csv\n",
    "buques_orig = pd.read_csv('buques.csv')\n",
    "\n",
    "# Eliminamos el espacio del nombre de la columna nombre_naviera\n",
    "buques_orig.rename(columns = {' nombre_naviera': 'nombre_naviera'}, inplace = True)\n",
    "\n",
    "#buques_orig.head(5)"
   ]
  },
  {
   "cell_type": "code",
   "execution_count": 5,
   "metadata": {},
   "outputs": [],
   "source": [
    "# Formamos la tabla Naviera\n",
    "Naviera = buques_orig[['nombre_naviera','pais_naviera', 'descripcion_naviera']]\n",
    "\n",
    "#Naviera.head(5)\n",
    "#Naviera.dtypes\n",
    "#Naviera.describe()"
   ]
  },
  {
   "cell_type": "code",
   "execution_count": 6,
   "metadata": {},
   "outputs": [],
   "source": [
    "# Eliminamos filas duplicadas de naviera\n",
    "Naviera = Naviera.drop_duplicates()\n",
    "# Confirmamos que nombre_naviera es llave\n",
    "#Naviera.describe()"
   ]
  },
  {
   "cell_type": "code",
   "execution_count": 7,
   "metadata": {},
   "outputs": [],
   "source": [
    "Buque = buques_orig[['id_buque','nombre', 'patente', 'pais']]\n",
    "# Cantidad de tuplas es 250\n",
    "#len(Buque)"
   ]
  },
  {
   "cell_type": "code",
   "execution_count": 8,
   "metadata": {},
   "outputs": [],
   "source": [
    "# Nombres de columnas\n",
    "#buques_orig.dtypes"
   ]
  },
  {
   "cell_type": "code",
   "execution_count": 9,
   "metadata": {},
   "outputs": [],
   "source": [
    "# Eliminamos filas duplicadas de buques\n",
    "Buque = Buque.drop_duplicates()\n",
    "# No había filas duplicadas\n",
    "#len(Buque)"
   ]
  },
  {
   "cell_type": "code",
   "execution_count": 14,
   "metadata": {},
   "outputs": [],
   "source": [
    "BuquePesquero = buques_orig[['id_buque','tipo', 'tipo_pesca']]\n",
    "#BuquePesquero.head(10)"
   ]
  },
  {
   "cell_type": "code",
   "execution_count": 15,
   "metadata": {},
   "outputs": [],
   "source": [
    "indexNames = BuquePesquero[ BuquePesquero['tipo'] != 'pesquero' ].index"
   ]
  },
  {
   "cell_type": "code",
   "execution_count": 16,
   "metadata": {},
   "outputs": [],
   "source": [
    "BuquePesquero.drop(indexNames, inplace=True)\n",
    "#BuquePesquero.head(10)\n",
    "del BuquePesquero[\"tipo\"]"
   ]
  },
  {
   "cell_type": "code",
   "execution_count": 17,
   "metadata": {},
   "outputs": [],
   "source": [
    "# Hay 91 buques pesqueros\n",
    "#len(BuquePesquero)\n",
    "# Hay 6 tipos de pesca, moda hilo con frecuencia 20\n",
    "#BuquePesquero.describe(include=\"all\")"
   ]
  },
  {
   "cell_type": "code",
   "execution_count": 18,
   "metadata": {},
   "outputs": [],
   "source": [
    "BuqueCarga = buques_orig[['id_buque','tipo', 'max_containers', 'max_ton']]\n",
    "indexNames = BuqueCarga[ BuqueCarga['tipo'] != 'carga' ].index\n",
    "BuqueCarga.drop(indexNames, inplace=True)\n",
    "#BuqueCarga.head(10)\n",
    "del BuqueCarga[\"tipo\"]\n",
    "BuqueCarga = BuqueCarga.astype({\"max_containers\": int, \"max_ton\": int})"
   ]
  },
  {
   "cell_type": "code",
   "execution_count": 19,
   "metadata": {},
   "outputs": [],
   "source": [
    "# Hay 74 buques de carga\n",
    "#len(BuqueCarga)\n",
    "#BuqueCarga.describe(include=\"all\")"
   ]
  },
  {
   "cell_type": "code",
   "execution_count": 20,
   "metadata": {},
   "outputs": [],
   "source": [
    "BuquePetrolero = buques_orig[['id_buque','tipo', 'max_lit']]\n",
    "indexNames = BuquePetrolero[ BuquePetrolero['tipo'] != 'petrolero' ].index\n",
    "BuquePetrolero.drop(indexNames, inplace=True)\n",
    "#BuquePetrolero.head(10)\n",
    "del BuquePetrolero[\"tipo\"]\n",
    "BuquePetrolero = BuquePetrolero.astype({\"max_lit\": int})"
   ]
  },
  {
   "cell_type": "code",
   "execution_count": 21,
   "metadata": {},
   "outputs": [],
   "source": [
    "Tiene = buques_orig[['id_buque','nombre_naviera']]"
   ]
  },
  {
   "cell_type": "code",
   "execution_count": 23,
   "metadata": {},
   "outputs": [],
   "source": [
    "Trabajan = personal_orig[['id_personal', 'id_buque']]\n",
    "# Hay 1643 relaciones trabajan\n",
    "#len(Trabajan)\n",
    "Trabajan = Trabajan.assign(cargo=\"trabajador\")\n",
    "\n",
    "for i in range(len(Buque)):\n",
    "    id_personal = int(buques_orig.iloc[i][\"id_capitan\"])\n",
    "    Trabajan[\"cargo\"].iloc[id_personal] = \"capitan\"\n",
    "\n",
    "# Imprime las últimas 5 tuplas\n",
    "#Trabajan.iloc[1638:]"
   ]
  },
  {
   "cell_type": "code",
   "execution_count": 24,
   "metadata": {},
   "outputs": [],
   "source": [
    "# Leemos archivo itinerarios.csv\n",
    "itinerarios_orig = pd.read_csv('itinerarios.csv')\n",
    "\n",
    "#itinerarios_orig.head(10)\n",
    "#itinerarios_orig.describe(include=\"all\")"
   ]
  },
  {
   "cell_type": "code",
   "execution_count": 25,
   "metadata": {},
   "outputs": [],
   "source": [
    "# Atraque son las tuplas con fecha_salida no nulo\n",
    "Atraque = itinerarios_orig[itinerarios_orig['fecha_salida'].notna()]\n",
    "#len(Atraque)"
   ]
  },
  {
   "cell_type": "code",
   "execution_count": 26,
   "metadata": {},
   "outputs": [],
   "source": [
    "# Itinerario son las tuplas con fecha_salida nulo\n",
    "Itinerario = itinerarios_orig[itinerarios_orig['fecha_salida'].isna()]\n",
    "del Itinerario[\"fecha_salida\"]\n",
    "#Itinerario"
   ]
  },
  {
   "cell_type": "code",
   "execution_count": 27,
   "metadata": {},
   "outputs": [],
   "source": [
    "# Quitamos id_buque de tabla personal\n",
    "Personal = personal_orig\n",
    "del Personal[\"id_buque\"]"
   ]
  },
  {
   "cell_type": "code",
   "execution_count": 28,
   "metadata": {},
   "outputs": [],
   "source": []
  },
  {
   "cell_type": "code",
   "execution_count": 29,
   "metadata": {},
   "outputs": [],
   "source": []
  },
  {
   "cell_type": "code",
   "execution_count": 30,
   "metadata": {},
   "outputs": [],
   "source": [
    "Buque.to_csv('../tablas/Buque.csv', index=False)\n",
    "Naviera.to_csv('../tablas/Naviera.csv', index=False)\n",
    "BuquePesquero.to_csv('../tablas/BuquePesquero.csv', index=False)\n",
    "BuqueCarga.to_csv('../tablas/BuqueCarga.csv', index=False)\n",
    "BuquePetrolero.to_csv('../tablas/BuquePetrolero.csv', index=False)\n",
    "Personal.to_csv('../tablas/Personal.csv', index=False)\n",
    "Tiene.to_csv('../tablas/Tiene.csv', index=False)\n",
    "Trabajan.to_csv('../tablas/Trabajan.csv', index=False)\n",
    "Atraque.to_csv('../tablas/Atraque.csv', index=False)\n",
    "Itinerario.to_csv('../tablas/Itinerario.csv', index=False)"
   ]
  },
  {
   "cell_type": "code",
   "execution_count": 39,
   "metadata": {},
   "outputs": [
    {
     "data": {
      "text/plain": [
       "300"
      ]
     },
     "execution_count": 39,
     "metadata": {},
     "output_type": "execute_result"
    }
   ],
   "source": [
    "len(Itinerario)"
   ]
  },
  {
   "cell_type": "code",
   "execution_count": 38,
   "metadata": {},
   "outputs": [],
   "source": [
    "Itinerario = Itinerario.drop_duplicates()"
   ]
  },
  {
   "cell_type": "code",
   "execution_count": 54,
   "metadata": {},
   "outputs": [
    {
     "data": {
      "text/html": [
       "<div>\n",
       "<style scoped>\n",
       "    .dataframe tbody tr th:only-of-type {\n",
       "        vertical-align: middle;\n",
       "    }\n",
       "\n",
       "    .dataframe tbody tr th {\n",
       "        vertical-align: top;\n",
       "    }\n",
       "\n",
       "    .dataframe thead th {\n",
       "        text-align: right;\n",
       "    }\n",
       "</style>\n",
       "<table border=\"1\" class=\"dataframe\">\n",
       "  <thead>\n",
       "    <tr style=\"text-align: right;\">\n",
       "      <th></th>\n",
       "      <th>fecha_atraque</th>\n",
       "      <th>fecha_salida</th>\n",
       "      <th>id_buque</th>\n",
       "      <th>nombre_puerto</th>\n",
       "    </tr>\n",
       "  </thead>\n",
       "  <tbody>\n",
       "    <tr>\n",
       "      <td>count</td>\n",
       "      <td>592</td>\n",
       "      <td>592</td>\n",
       "      <td>592.000000</td>\n",
       "      <td>592</td>\n",
       "    </tr>\n",
       "    <tr>\n",
       "      <td>unique</td>\n",
       "      <td>592</td>\n",
       "      <td>592</td>\n",
       "      <td>NaN</td>\n",
       "      <td>44</td>\n",
       "    </tr>\n",
       "    <tr>\n",
       "      <td>top</td>\n",
       "      <td>2014-01-19 20:53:45</td>\n",
       "      <td>2011-03-25 03:52:27</td>\n",
       "      <td>NaN</td>\n",
       "      <td>Quintero</td>\n",
       "    </tr>\n",
       "    <tr>\n",
       "      <td>freq</td>\n",
       "      <td>1</td>\n",
       "      <td>1</td>\n",
       "      <td>NaN</td>\n",
       "      <td>32</td>\n",
       "    </tr>\n",
       "    <tr>\n",
       "      <td>mean</td>\n",
       "      <td>NaN</td>\n",
       "      <td>NaN</td>\n",
       "      <td>126.385135</td>\n",
       "      <td>NaN</td>\n",
       "    </tr>\n",
       "    <tr>\n",
       "      <td>std</td>\n",
       "      <td>NaN</td>\n",
       "      <td>NaN</td>\n",
       "      <td>72.695878</td>\n",
       "      <td>NaN</td>\n",
       "    </tr>\n",
       "    <tr>\n",
       "      <td>min</td>\n",
       "      <td>NaN</td>\n",
       "      <td>NaN</td>\n",
       "      <td>0.000000</td>\n",
       "      <td>NaN</td>\n",
       "    </tr>\n",
       "    <tr>\n",
       "      <td>25%</td>\n",
       "      <td>NaN</td>\n",
       "      <td>NaN</td>\n",
       "      <td>66.000000</td>\n",
       "      <td>NaN</td>\n",
       "    </tr>\n",
       "    <tr>\n",
       "      <td>50%</td>\n",
       "      <td>NaN</td>\n",
       "      <td>NaN</td>\n",
       "      <td>128.000000</td>\n",
       "      <td>NaN</td>\n",
       "    </tr>\n",
       "    <tr>\n",
       "      <td>75%</td>\n",
       "      <td>NaN</td>\n",
       "      <td>NaN</td>\n",
       "      <td>189.000000</td>\n",
       "      <td>NaN</td>\n",
       "    </tr>\n",
       "    <tr>\n",
       "      <td>max</td>\n",
       "      <td>NaN</td>\n",
       "      <td>NaN</td>\n",
       "      <td>249.000000</td>\n",
       "      <td>NaN</td>\n",
       "    </tr>\n",
       "  </tbody>\n",
       "</table>\n",
       "</div>"
      ],
      "text/plain": [
       "              fecha_atraque         fecha_salida    id_buque nombre_puerto\n",
       "count                   592                  592  592.000000           592\n",
       "unique                  592                  592         NaN            44\n",
       "top     2014-01-19 20:53:45  2011-03-25 03:52:27         NaN      Quintero\n",
       "freq                      1                    1         NaN            32\n",
       "mean                    NaN                  NaN  126.385135           NaN\n",
       "std                     NaN                  NaN   72.695878           NaN\n",
       "min                     NaN                  NaN    0.000000           NaN\n",
       "25%                     NaN                  NaN   66.000000           NaN\n",
       "50%                     NaN                  NaN  128.000000           NaN\n",
       "75%                     NaN                  NaN  189.000000           NaN\n",
       "max                     NaN                  NaN  249.000000           NaN"
      ]
     },
     "execution_count": 54,
     "metadata": {},
     "output_type": "execute_result"
    }
   ],
   "source": [
    "Atraque.describe(include=\"all\")"
   ]
  },
  {
   "cell_type": "code",
   "execution_count": 44,
   "metadata": {},
   "outputs": [],
   "source": [
    "Itinerario = Itinerario.astype({\"id_buque\": str})"
   ]
  },
  {
   "cell_type": "code",
   "execution_count": 45,
   "metadata": {},
   "outputs": [
    {
     "data": {
      "text/html": [
       "<div>\n",
       "<style scoped>\n",
       "    .dataframe tbody tr th:only-of-type {\n",
       "        vertical-align: middle;\n",
       "    }\n",
       "\n",
       "    .dataframe tbody tr th {\n",
       "        vertical-align: top;\n",
       "    }\n",
       "\n",
       "    .dataframe thead th {\n",
       "        text-align: right;\n",
       "    }\n",
       "</style>\n",
       "<table border=\"1\" class=\"dataframe\">\n",
       "  <thead>\n",
       "    <tr style=\"text-align: right;\">\n",
       "      <th></th>\n",
       "      <th>fecha_atraque</th>\n",
       "      <th>id_buque</th>\n",
       "      <th>nombre_puerto</th>\n",
       "    </tr>\n",
       "  </thead>\n",
       "  <tbody>\n",
       "    <tr>\n",
       "      <td>count</td>\n",
       "      <td>300</td>\n",
       "      <td>300</td>\n",
       "      <td>300</td>\n",
       "    </tr>\n",
       "    <tr>\n",
       "      <td>unique</td>\n",
       "      <td>300</td>\n",
       "      <td>168</td>\n",
       "      <td>43</td>\n",
       "    </tr>\n",
       "    <tr>\n",
       "      <td>top</td>\n",
       "      <td>2021-05-05 00:39:03</td>\n",
       "      <td>174</td>\n",
       "      <td>Mejillones</td>\n",
       "    </tr>\n",
       "    <tr>\n",
       "      <td>freq</td>\n",
       "      <td>1</td>\n",
       "      <td>5</td>\n",
       "      <td>15</td>\n",
       "    </tr>\n",
       "  </tbody>\n",
       "</table>\n",
       "</div>"
      ],
      "text/plain": [
       "              fecha_atraque id_buque nombre_puerto\n",
       "count                   300      300           300\n",
       "unique                  300      168            43\n",
       "top     2021-05-05 00:39:03      174    Mejillones\n",
       "freq                      1        5            15"
      ]
     },
     "execution_count": 45,
     "metadata": {},
     "output_type": "execute_result"
    }
   ],
   "source": [
    "Itinerario.describe(include=\"all\")"
   ]
  },
  {
   "cell_type": "code",
   "execution_count": 48,
   "metadata": {},
   "outputs": [
    {
     "data": {
      "text/html": [
       "<div>\n",
       "<style scoped>\n",
       "    .dataframe tbody tr th:only-of-type {\n",
       "        vertical-align: middle;\n",
       "    }\n",
       "\n",
       "    .dataframe tbody tr th {\n",
       "        vertical-align: top;\n",
       "    }\n",
       "\n",
       "    .dataframe thead th {\n",
       "        text-align: right;\n",
       "    }\n",
       "</style>\n",
       "<table border=\"1\" class=\"dataframe\">\n",
       "  <thead>\n",
       "    <tr style=\"text-align: right;\">\n",
       "      <th></th>\n",
       "      <th>id_buque</th>\n",
       "      <th>patente</th>\n",
       "    </tr>\n",
       "  </thead>\n",
       "  <tbody>\n",
       "    <tr>\n",
       "      <td>count</td>\n",
       "      <td>250.000000</td>\n",
       "      <td>250</td>\n",
       "    </tr>\n",
       "    <tr>\n",
       "      <td>unique</td>\n",
       "      <td>NaN</td>\n",
       "      <td>250</td>\n",
       "    </tr>\n",
       "    <tr>\n",
       "      <td>top</td>\n",
       "      <td>NaN</td>\n",
       "      <td>MZ9845</td>\n",
       "    </tr>\n",
       "    <tr>\n",
       "      <td>freq</td>\n",
       "      <td>NaN</td>\n",
       "      <td>1</td>\n",
       "    </tr>\n",
       "    <tr>\n",
       "      <td>mean</td>\n",
       "      <td>124.500000</td>\n",
       "      <td>NaN</td>\n",
       "    </tr>\n",
       "    <tr>\n",
       "      <td>std</td>\n",
       "      <td>72.312977</td>\n",
       "      <td>NaN</td>\n",
       "    </tr>\n",
       "    <tr>\n",
       "      <td>min</td>\n",
       "      <td>0.000000</td>\n",
       "      <td>NaN</td>\n",
       "    </tr>\n",
       "    <tr>\n",
       "      <td>25%</td>\n",
       "      <td>62.250000</td>\n",
       "      <td>NaN</td>\n",
       "    </tr>\n",
       "    <tr>\n",
       "      <td>50%</td>\n",
       "      <td>124.500000</td>\n",
       "      <td>NaN</td>\n",
       "    </tr>\n",
       "    <tr>\n",
       "      <td>75%</td>\n",
       "      <td>186.750000</td>\n",
       "      <td>NaN</td>\n",
       "    </tr>\n",
       "    <tr>\n",
       "      <td>max</td>\n",
       "      <td>249.000000</td>\n",
       "      <td>NaN</td>\n",
       "    </tr>\n",
       "  </tbody>\n",
       "</table>\n",
       "</div>"
      ],
      "text/plain": [
       "          id_buque patente\n",
       "count   250.000000     250\n",
       "unique         NaN     250\n",
       "top            NaN  MZ9845\n",
       "freq           NaN       1\n",
       "mean    124.500000     NaN\n",
       "std      72.312977     NaN\n",
       "min       0.000000     NaN\n",
       "25%      62.250000     NaN\n",
       "50%     124.500000     NaN\n",
       "75%     186.750000     NaN\n",
       "max     249.000000     NaN"
      ]
     },
     "execution_count": 48,
     "metadata": {},
     "output_type": "execute_result"
    }
   ],
   "source": [
    "IdBuquePatente.describe(include=\"all\")"
   ]
  },
  {
   "cell_type": "code",
   "execution_count": 51,
   "metadata": {},
   "outputs": [
    {
     "data": {
      "text/html": [
       "<div>\n",
       "<style scoped>\n",
       "    .dataframe tbody tr th:only-of-type {\n",
       "        vertical-align: middle;\n",
       "    }\n",
       "\n",
       "    .dataframe tbody tr th {\n",
       "        vertical-align: top;\n",
       "    }\n",
       "\n",
       "    .dataframe thead th {\n",
       "        text-align: right;\n",
       "    }\n",
       "</style>\n",
       "<table border=\"1\" class=\"dataframe\">\n",
       "  <thead>\n",
       "    <tr style=\"text-align: right;\">\n",
       "      <th></th>\n",
       "      <th>id_buque</th>\n",
       "      <th>patente</th>\n",
       "    </tr>\n",
       "  </thead>\n",
       "  <tbody>\n",
       "    <tr>\n",
       "      <td>count</td>\n",
       "      <td>250</td>\n",
       "      <td>250</td>\n",
       "    </tr>\n",
       "    <tr>\n",
       "      <td>unique</td>\n",
       "      <td>250</td>\n",
       "      <td>250</td>\n",
       "    </tr>\n",
       "    <tr>\n",
       "      <td>top</td>\n",
       "      <td>138</td>\n",
       "      <td>MZ9845</td>\n",
       "    </tr>\n",
       "    <tr>\n",
       "      <td>freq</td>\n",
       "      <td>1</td>\n",
       "      <td>1</td>\n",
       "    </tr>\n",
       "  </tbody>\n",
       "</table>\n",
       "</div>"
      ],
      "text/plain": [
       "       id_buque patente\n",
       "count       250     250\n",
       "unique      250     250\n",
       "top         138  MZ9845\n",
       "freq          1       1"
      ]
     },
     "execution_count": 51,
     "metadata": {},
     "output_type": "execute_result"
    }
   ],
   "source": [
    "IdBuquePatente = IdBuquePatente.astype({\"id_buque\": str})\n",
    "IdBuquePatente.describe(include=\"all\")"
   ]
  },
  {
   "cell_type": "code",
   "execution_count": 53,
   "metadata": {},
   "outputs": [
    {
     "data": {
      "text/html": [
       "<div>\n",
       "<style scoped>\n",
       "    .dataframe tbody tr th:only-of-type {\n",
       "        vertical-align: middle;\n",
       "    }\n",
       "\n",
       "    .dataframe tbody tr th {\n",
       "        vertical-align: top;\n",
       "    }\n",
       "\n",
       "    .dataframe thead th {\n",
       "        text-align: right;\n",
       "    }\n",
       "</style>\n",
       "<table border=\"1\" class=\"dataframe\">\n",
       "  <thead>\n",
       "    <tr style=\"text-align: right;\">\n",
       "      <th></th>\n",
       "      <th>id_buque</th>\n",
       "      <th>pais</th>\n",
       "    </tr>\n",
       "  </thead>\n",
       "  <tbody>\n",
       "    <tr>\n",
       "      <td>0</td>\n",
       "      <td>0</td>\n",
       "      <td>India</td>\n",
       "    </tr>\n",
       "    <tr>\n",
       "      <td>1</td>\n",
       "      <td>1</td>\n",
       "      <td>Canada</td>\n",
       "    </tr>\n",
       "    <tr>\n",
       "      <td>2</td>\n",
       "      <td>2</td>\n",
       "      <td>Singapur</td>\n",
       "    </tr>\n",
       "    <tr>\n",
       "      <td>3</td>\n",
       "      <td>3</td>\n",
       "      <td>Costa Rica</td>\n",
       "    </tr>\n",
       "    <tr>\n",
       "      <td>4</td>\n",
       "      <td>4</td>\n",
       "      <td>Argentina</td>\n",
       "    </tr>\n",
       "    <tr>\n",
       "      <td>...</td>\n",
       "      <td>...</td>\n",
       "      <td>...</td>\n",
       "    </tr>\n",
       "    <tr>\n",
       "      <td>245</td>\n",
       "      <td>245</td>\n",
       "      <td>Finlandia</td>\n",
       "    </tr>\n",
       "    <tr>\n",
       "      <td>246</td>\n",
       "      <td>246</td>\n",
       "      <td>Chile</td>\n",
       "    </tr>\n",
       "    <tr>\n",
       "      <td>247</td>\n",
       "      <td>247</td>\n",
       "      <td>Panama</td>\n",
       "    </tr>\n",
       "    <tr>\n",
       "      <td>248</td>\n",
       "      <td>248</td>\n",
       "      <td>Mexico</td>\n",
       "    </tr>\n",
       "    <tr>\n",
       "      <td>249</td>\n",
       "      <td>249</td>\n",
       "      <td>Chile</td>\n",
       "    </tr>\n",
       "  </tbody>\n",
       "</table>\n",
       "<p>250 rows × 2 columns</p>\n",
       "</div>"
      ],
      "text/plain": [
       "     id_buque        pais\n",
       "0           0       India\n",
       "1           1      Canada\n",
       "2           2    Singapur\n",
       "3           3  Costa Rica\n",
       "4           4   Argentina\n",
       "..        ...         ...\n",
       "245       245   Finlandia\n",
       "246       246       Chile\n",
       "247       247      Panama\n",
       "248       248      Mexico\n",
       "249       249       Chile\n",
       "\n",
       "[250 rows x 2 columns]"
      ]
     },
     "execution_count": 53,
     "metadata": {},
     "output_type": "execute_result"
    }
   ],
   "source": [
    "Buque"
   ]
  },
  {
   "cell_type": "code",
   "execution_count": null,
   "metadata": {},
   "outputs": [],
   "source": []
  }
 ],
 "metadata": {
  "kernelspec": {
   "display_name": "Python 3",
   "language": "python",
   "name": "python3"
  },
  "language_info": {
   "codemirror_mode": {
    "name": "ipython",
    "version": 3
   },
   "file_extension": ".py",
   "mimetype": "text/x-python",
   "name": "python",
   "nbconvert_exporter": "python",
   "pygments_lexer": "ipython3",
   "version": "3.7.4"
  }
 },
 "nbformat": 4,
 "nbformat_minor": 4
}
