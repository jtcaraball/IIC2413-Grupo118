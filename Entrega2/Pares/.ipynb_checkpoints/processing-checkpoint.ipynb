{
 "cells": [
  {
   "cell_type": "code",
   "execution_count": 129,
   "metadata": {},
   "outputs": [],
   "source": [
    "import numpy as np\n",
    "import pandas as pd"
   ]
  },
  {
   "cell_type": "code",
   "execution_count": 130,
   "metadata": {},
   "outputs": [],
   "source": [
    "# Leemos archivo personal_buque.csv\n",
    "personal_orig = pd.read_csv('personal_buque.csv')\n",
    "#personal_orig.head(5)"
   ]
  },
  {
   "cell_type": "code",
   "execution_count": 131,
   "metadata": {},
   "outputs": [],
   "source": [
    "# Leemos archivo buques.csv\n",
    "buques_orig = pd.read_csv('buques.csv')\n",
    "\n",
    "# Eliminamos el espacio del nombre de la columna nombre_naviera\n",
    "buques_orig.rename(columns = {' nombre_naviera': 'nombre_naviera'}, inplace = True)\n",
    "\n",
    "#buques_orig.head(5)"
   ]
  },
  {
   "cell_type": "code",
   "execution_count": 132,
   "metadata": {},
   "outputs": [],
   "source": [
    "# Formamos la tabla Naviera\n",
    "Naviera = buques_orig[['nombre_naviera','pais_naviera', 'descripcion_naviera']]\n",
    "\n",
    "#Naviera.head(5)\n",
    "#Naviera.dtypes\n",
    "#Naviera.describe()"
   ]
  },
  {
   "cell_type": "code",
   "execution_count": 133,
   "metadata": {},
   "outputs": [],
   "source": [
    "# Eliminamos filas duplicadas de naviera\n",
    "Naviera = Naviera.drop_duplicates()\n",
    "# Confirmamos que nombre_naviera es llave\n",
    "#Naviera.describe()"
   ]
  },
  {
   "cell_type": "code",
   "execution_count": 134,
   "metadata": {},
   "outputs": [],
   "source": [
    "Buque = buques_orig[['id_buque','nombre', 'patente', 'pais']]\n",
    "# Cantidad de tuplas es 250\n",
    "#len(Buque)"
   ]
  },
  {
   "cell_type": "code",
   "execution_count": 135,
   "metadata": {},
   "outputs": [],
   "source": [
    "# Nombres de columnas\n",
    "#buques_orig.dtypes"
   ]
  },
  {
   "cell_type": "code",
   "execution_count": 136,
   "metadata": {},
   "outputs": [],
   "source": [
    "# Eliminamos filas duplicadas de buques\n",
    "Buque = Buque.drop_duplicates()\n",
    "# No había filas duplicadas\n",
    "#len(Buque)"
   ]
  },
  {
   "cell_type": "code",
   "execution_count": 137,
   "metadata": {},
   "outputs": [],
   "source": [
    "BuquePesquero = buques_orig[['id_buque','tipo', 'tipo_pesca']]\n",
    "#BuquePesquero.head(10)"
   ]
  },
  {
   "cell_type": "code",
   "execution_count": 138,
   "metadata": {},
   "outputs": [],
   "source": [
    "indexNames = BuquePesquero[ BuquePesquero['tipo'] != 'pesquero' ].index"
   ]
  },
  {
   "cell_type": "code",
   "execution_count": 139,
   "metadata": {},
   "outputs": [],
   "source": [
    "BuquePesquero.drop(indexNames, inplace=True)\n",
    "#BuquePesquero.head(10)\n",
    "del BuquePesquero[\"tipo\"]"
   ]
  },
  {
   "cell_type": "code",
   "execution_count": 140,
   "metadata": {},
   "outputs": [],
   "source": [
    "# Hay 91 buques pesqueros\n",
    "#len(BuquePesquero)\n",
    "# Hay 6 tipos de pesca, moda hilo con frecuencia 20\n",
    "#BuquePesquero.describe(include=\"all\")"
   ]
  },
  {
   "cell_type": "code",
   "execution_count": 141,
   "metadata": {},
   "outputs": [],
   "source": [
    "BuqueCarga = buques_orig[['id_buque','tipo', 'max_containers', 'max_ton']]\n",
    "indexNames = BuqueCarga[ BuqueCarga['tipo'] != 'carga' ].index\n",
    "BuqueCarga.drop(indexNames, inplace=True)\n",
    "#BuqueCarga.head(10)\n",
    "del BuqueCarga[\"tipo\"]\n",
    "BuqueCarga = BuqueCarga.astype({\"max_containers\": int, \"max_ton\": int})"
   ]
  },
  {
   "cell_type": "code",
   "execution_count": 142,
   "metadata": {},
   "outputs": [],
   "source": [
    "# Hay 74 buques de carga\n",
    "#len(BuqueCarga)\n",
    "#BuqueCarga.describe(include=\"all\")"
   ]
  },
  {
   "cell_type": "code",
   "execution_count": 143,
   "metadata": {},
   "outputs": [],
   "source": [
    "BuquePetrolero = buques_orig[['id_buque','tipo', 'max_lit']]\n",
    "indexNames = BuquePetrolero[ BuquePetrolero['tipo'] != 'petrolero' ].index\n",
    "BuquePetrolero.drop(indexNames, inplace=True)\n",
    "#BuquePetrolero.head(10)\n",
    "del BuquePetrolero[\"tipo\"]\n",
    "BuquePetrolero = BuquePetrolero.astype({\"max_lit\": int})"
   ]
  },
  {
   "cell_type": "code",
   "execution_count": 144,
   "metadata": {},
   "outputs": [],
   "source": [
    "Tiene = buques_orig[['id_buque','nombre_naviera']]"
   ]
  },
  {
   "cell_type": "code",
   "execution_count": 145,
   "metadata": {},
   "outputs": [],
   "source": [
    "Trabajan = personal_orig[['id_personal', 'id_buque']]\n",
    "# Hay 1643 relaciones trabajan\n",
    "#len(Trabajan)\n",
    "Trabajan = Trabajan.assign(cargo=\"trabajador\")\n",
    "\n",
    "for i in range(len(Buque)):\n",
    "    id_personal = int(buques_orig.iloc[i][\"id_capitan\"])\n",
    "    Trabajan[\"cargo\"].iloc[id_personal] = \"capitan\"\n",
    "\n",
    "# Imprime las últimas 5 tuplas\n",
    "#Trabajan.iloc[1638:]"
   ]
  },
  {
   "cell_type": "code",
   "execution_count": 146,
   "metadata": {},
   "outputs": [],
   "source": [
    "# Leemos archivo itinerarios.csv\n",
    "itinerarios_orig = pd.read_csv('itinerarios.csv')\n",
    "\n",
    "#itinerarios_orig.head(10)\n",
    "#itinerarios_orig.describe(include=\"all\")"
   ]
  },
  {
   "cell_type": "code",
   "execution_count": 147,
   "metadata": {},
   "outputs": [],
   "source": [
    "# Atraque son las tuplas con fecha_salida no nulo\n",
    "Atraque = itinerarios_orig[itinerarios_orig['fecha_salida'].notna()]\n",
    "#len(Atraque)"
   ]
  },
  {
   "cell_type": "code",
   "execution_count": 148,
   "metadata": {},
   "outputs": [],
   "source": [
    "# Itinerario son las tuplas con fecha_salida nulo\n",
    "Itinerario = itinerarios_orig[itinerarios_orig['fecha_salida'].isna()]\n",
    "del Itinerario[\"fecha_salida\"]\n",
    "#Itinerario"
   ]
  },
  {
   "cell_type": "code",
   "execution_count": 149,
   "metadata": {},
   "outputs": [],
   "source": [
    "# Quitamos id_buque de tabla personal\n",
    "Personal = personal_orig\n",
    "del Personal[\"id_buque\"]"
   ]
  },
  {
   "cell_type": "code",
   "execution_count": 150,
   "metadata": {},
   "outputs": [],
   "source": [
    "IdPersonalPasaporte = personal_orig[['id_personal','pasaporte']]\n",
    "IdPersonalNombre = personal_orig[['id_personal','nombre']]\n",
    "IdBuquePatente = Buque[['id_buque','patente']]\n",
    "IdBuqueNombre = Buque[['id_buque','nombre']]"
   ]
  },
  {
   "cell_type": "code",
   "execution_count": 151,
   "metadata": {},
   "outputs": [],
   "source": [
    "del Personal[\"pasaporte\"]\n",
    "del Personal[\"nombre\"]\n",
    "del Buque[\"patente\"]\n",
    "del Buque[\"nombre\"]"
   ]
  },
  {
   "cell_type": "code",
   "execution_count": 152,
   "metadata": {},
   "outputs": [],
   "source": [
    "Buque.to_csv('../tablas/Buque.csv', index=False)\n",
    "Naviera.to_csv('../tablas/Naviera.csv', index=False)\n",
    "BuquePesquero.to_csv('../tablas/BuquePesquero.csv', index=False)\n",
    "BuqueCarga.to_csv('../tablas/BuqueCarga.csv', index=False)\n",
    "BuquePetrolero.to_csv('../tablas/BuquePetrolero.csv', index=False)\n",
    "Personal.to_csv('../tablas/Personal.csv', index=False)\n",
    "Tiene.to_csv('../tablas/Tiene.csv', index=False)\n",
    "Trabajan.to_csv('../tablas/Trabajan.csv', index=False)\n",
    "Atraque.to_csv('../tablas/Atraque.csv', index=False)\n",
    "Itinerario.to_csv('../tablas/Itinerario.csv', index=False)\n",
    "IdPersonalPasaporte.to_csv('../tablas/IdPersonalPasaporte.csv', index=False)\n",
    "IdPersonalNombre.to_csv('../tablas/IdPersonalNombre.csv', index=False)\n",
    "IdBuquePatente.to_csv('../tablas/IdBuquePatente.csv', index=False)\n",
    "IdBuqueNombre.to_csv('../tablas/IdBuqueNombre.csv', index=False)"
   ]
  },
  {
   "cell_type": "code",
   "execution_count": 153,
   "metadata": {},
   "outputs": [
    {
     "data": {
      "text/html": [
       "<div>\n",
       "<style scoped>\n",
       "    .dataframe tbody tr th:only-of-type {\n",
       "        vertical-align: middle;\n",
       "    }\n",
       "\n",
       "    .dataframe tbody tr th {\n",
       "        vertical-align: top;\n",
       "    }\n",
       "\n",
       "    .dataframe thead th {\n",
       "        text-align: right;\n",
       "    }\n",
       "</style>\n",
       "<table border=\"1\" class=\"dataframe\">\n",
       "  <thead>\n",
       "    <tr style=\"text-align: right;\">\n",
       "      <th></th>\n",
       "      <th>id_personal</th>\n",
       "      <th>nacionalidad</th>\n",
       "      <th>edad</th>\n",
       "      <th>genero</th>\n",
       "    </tr>\n",
       "  </thead>\n",
       "  <tbody>\n",
       "    <tr>\n",
       "      <td>count</td>\n",
       "      <td>1643.000000</td>\n",
       "      <td>1643</td>\n",
       "      <td>1643.000000</td>\n",
       "      <td>1643</td>\n",
       "    </tr>\n",
       "    <tr>\n",
       "      <td>unique</td>\n",
       "      <td>NaN</td>\n",
       "      <td>157</td>\n",
       "      <td>NaN</td>\n",
       "      <td>2</td>\n",
       "    </tr>\n",
       "    <tr>\n",
       "      <td>top</td>\n",
       "      <td>NaN</td>\n",
       "      <td>REINO UNIDO</td>\n",
       "      <td>NaN</td>\n",
       "      <td>mujer</td>\n",
       "    </tr>\n",
       "    <tr>\n",
       "      <td>freq</td>\n",
       "      <td>NaN</td>\n",
       "      <td>34</td>\n",
       "      <td>NaN</td>\n",
       "      <td>846</td>\n",
       "    </tr>\n",
       "    <tr>\n",
       "      <td>mean</td>\n",
       "      <td>821.000000</td>\n",
       "      <td>NaN</td>\n",
       "      <td>42.556299</td>\n",
       "      <td>NaN</td>\n",
       "    </tr>\n",
       "    <tr>\n",
       "      <td>std</td>\n",
       "      <td>474.437562</td>\n",
       "      <td>NaN</td>\n",
       "      <td>18.159389</td>\n",
       "      <td>NaN</td>\n",
       "    </tr>\n",
       "    <tr>\n",
       "      <td>min</td>\n",
       "      <td>0.000000</td>\n",
       "      <td>NaN</td>\n",
       "      <td>10.000000</td>\n",
       "      <td>NaN</td>\n",
       "    </tr>\n",
       "    <tr>\n",
       "      <td>25%</td>\n",
       "      <td>410.500000</td>\n",
       "      <td>NaN</td>\n",
       "      <td>28.000000</td>\n",
       "      <td>NaN</td>\n",
       "    </tr>\n",
       "    <tr>\n",
       "      <td>50%</td>\n",
       "      <td>821.000000</td>\n",
       "      <td>NaN</td>\n",
       "      <td>41.000000</td>\n",
       "      <td>NaN</td>\n",
       "    </tr>\n",
       "    <tr>\n",
       "      <td>75%</td>\n",
       "      <td>1231.500000</td>\n",
       "      <td>NaN</td>\n",
       "      <td>54.000000</td>\n",
       "      <td>NaN</td>\n",
       "    </tr>\n",
       "    <tr>\n",
       "      <td>max</td>\n",
       "      <td>1642.000000</td>\n",
       "      <td>NaN</td>\n",
       "      <td>99.000000</td>\n",
       "      <td>NaN</td>\n",
       "    </tr>\n",
       "  </tbody>\n",
       "</table>\n",
       "</div>"
      ],
      "text/plain": [
       "        id_personal nacionalidad         edad genero\n",
       "count   1643.000000         1643  1643.000000   1643\n",
       "unique          NaN          157          NaN      2\n",
       "top             NaN  REINO UNIDO          NaN  mujer\n",
       "freq            NaN           34          NaN    846\n",
       "mean     821.000000          NaN    42.556299    NaN\n",
       "std      474.437562          NaN    18.159389    NaN\n",
       "min        0.000000          NaN    10.000000    NaN\n",
       "25%      410.500000          NaN    28.000000    NaN\n",
       "50%      821.000000          NaN    41.000000    NaN\n",
       "75%     1231.500000          NaN    54.000000    NaN\n",
       "max     1642.000000          NaN    99.000000    NaN"
      ]
     },
     "execution_count": 153,
     "metadata": {},
     "output_type": "execute_result"
    }
   ],
   "source": [
    "Personal.describe(include=\"all\")"
   ]
  },
  {
   "cell_type": "code",
   "execution_count": null,
   "metadata": {},
   "outputs": [],
   "source": []
  },
  {
   "cell_type": "code",
   "execution_count": 154,
   "metadata": {},
   "outputs": [
    {
     "data": {
      "text/plain": [
       "id_buque          int64\n",
       "max_containers    int32\n",
       "max_ton           int32\n",
       "dtype: object"
      ]
     },
     "execution_count": 154,
     "metadata": {},
     "output_type": "execute_result"
    }
   ],
   "source": [
    "BuqueCarga.dtypes"
   ]
  },
  {
   "cell_type": "code",
   "execution_count": null,
   "metadata": {},
   "outputs": [],
   "source": []
  }
 ],
 "metadata": {
  "kernelspec": {
   "display_name": "Python 3",
   "language": "python",
   "name": "python3"
  },
  "language_info": {
   "codemirror_mode": {
    "name": "ipython",
    "version": 3
   },
   "file_extension": ".py",
   "mimetype": "text/x-python",
   "name": "python",
   "nbconvert_exporter": "python",
   "pygments_lexer": "ipython3",
   "version": "3.7.4"
  }
 },
 "nbformat": 4,
 "nbformat_minor": 4
}
