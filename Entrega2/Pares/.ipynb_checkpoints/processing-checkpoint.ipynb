{
 "cells": [
  {
   "cell_type": "code",
   "execution_count": 129,
   "metadata": {},
   "outputs": [],
   "source": [
    "import numpy as np\n",
    "import pandas as pd"
   ]
  },
  {
   "cell_type": "code",
   "execution_count": 155,
   "metadata": {},
   "outputs": [],
   "source": [
    "# Leemos archivo personal_buque.csv\n",
    "personal_orig = pd.read_csv('personal_buque.csv')\n",
    "#personal_orig.head(5)"
   ]
  },
  {
   "cell_type": "code",
   "execution_count": 156,
   "metadata": {},
   "outputs": [],
   "source": [
    "# Leemos archivo buques.csv\n",
    "buques_orig = pd.read_csv('buques.csv')\n",
    "\n",
    "# Eliminamos el espacio del nombre de la columna nombre_naviera\n",
    "buques_orig.rename(columns = {' nombre_naviera': 'nombre_naviera'}, inplace = True)\n",
    "\n",
    "#buques_orig.head(5)"
   ]
  },
  {
   "cell_type": "code",
   "execution_count": 157,
   "metadata": {},
   "outputs": [],
   "source": [
    "# Formamos la tabla Naviera\n",
    "Naviera = buques_orig[['nombre_naviera','pais_naviera', 'descripcion_naviera']]\n",
    "\n",
    "#Naviera.head(5)\n",
    "#Naviera.dtypes\n",
    "#Naviera.describe()"
   ]
  },
  {
   "cell_type": "code",
   "execution_count": 158,
   "metadata": {},
   "outputs": [],
   "source": [
    "# Eliminamos filas duplicadas de naviera\n",
    "Naviera = Naviera.drop_duplicates()\n",
    "# Confirmamos que nombre_naviera es llave\n",
    "#Naviera.describe()"
   ]
  },
  {
   "cell_type": "code",
   "execution_count": 159,
   "metadata": {},
   "outputs": [],
   "source": [
    "Buque = buques_orig[['id_buque','nombre', 'patente', 'pais']]\n",
    "# Cantidad de tuplas es 250\n",
    "#len(Buque)"
   ]
  },
  {
   "cell_type": "code",
   "execution_count": 160,
   "metadata": {},
   "outputs": [],
   "source": [
    "# Nombres de columnas\n",
    "#buques_orig.dtypes"
   ]
  },
  {
   "cell_type": "code",
   "execution_count": 161,
   "metadata": {},
   "outputs": [],
   "source": [
    "# Eliminamos filas duplicadas de buques\n",
    "Buque = Buque.drop_duplicates()\n",
    "# No había filas duplicadas\n",
    "#len(Buque)"
   ]
  },
  {
   "cell_type": "code",
   "execution_count": 162,
   "metadata": {},
   "outputs": [],
   "source": [
    "BuquePesquero = buques_orig[['id_buque','tipo', 'tipo_pesca']]\n",
    "#BuquePesquero.head(10)"
   ]
  },
  {
   "cell_type": "code",
   "execution_count": 163,
   "metadata": {},
   "outputs": [],
   "source": [
    "indexNames = BuquePesquero[ BuquePesquero['tipo'] != 'pesquero' ].index"
   ]
  },
  {
   "cell_type": "code",
   "execution_count": 164,
   "metadata": {},
   "outputs": [],
   "source": [
    "BuquePesquero.drop(indexNames, inplace=True)\n",
    "#BuquePesquero.head(10)\n",
    "del BuquePesquero[\"tipo\"]"
   ]
  },
  {
   "cell_type": "code",
   "execution_count": 165,
   "metadata": {},
   "outputs": [],
   "source": [
    "# Hay 91 buques pesqueros\n",
    "#len(BuquePesquero)\n",
    "# Hay 6 tipos de pesca, moda hilo con frecuencia 20\n",
    "#BuquePesquero.describe(include=\"all\")"
   ]
  },
  {
   "cell_type": "code",
   "execution_count": 166,
   "metadata": {},
   "outputs": [],
   "source": [
    "BuqueCarga = buques_orig[['id_buque','tipo', 'max_containers', 'max_ton']]\n",
    "indexNames = BuqueCarga[ BuqueCarga['tipo'] != 'carga' ].index\n",
    "BuqueCarga.drop(indexNames, inplace=True)\n",
    "#BuqueCarga.head(10)\n",
    "del BuqueCarga[\"tipo\"]\n",
    "BuqueCarga = BuqueCarga.astype({\"max_containers\": int, \"max_ton\": int})"
   ]
  },
  {
   "cell_type": "code",
   "execution_count": 167,
   "metadata": {},
   "outputs": [],
   "source": [
    "# Hay 74 buques de carga\n",
    "#len(BuqueCarga)\n",
    "#BuqueCarga.describe(include=\"all\")"
   ]
  },
  {
   "cell_type": "code",
   "execution_count": 168,
   "metadata": {},
   "outputs": [],
   "source": [
    "BuquePetrolero = buques_orig[['id_buque','tipo', 'max_lit']]\n",
    "indexNames = BuquePetrolero[ BuquePetrolero['tipo'] != 'petrolero' ].index\n",
    "BuquePetrolero.drop(indexNames, inplace=True)\n",
    "#BuquePetrolero.head(10)\n",
    "del BuquePetrolero[\"tipo\"]\n",
    "BuquePetrolero = BuquePetrolero.astype({\"max_lit\": int})"
   ]
  },
  {
   "cell_type": "code",
   "execution_count": 169,
   "metadata": {},
   "outputs": [],
   "source": [
    "Tiene = buques_orig[['id_buque','nombre_naviera']]"
   ]
  },
  {
   "cell_type": "code",
   "execution_count": 170,
   "metadata": {},
   "outputs": [],
   "source": [
    "Trabajan = personal_orig[['id_personal', 'id_buque']]\n",
    "# Hay 1643 relaciones trabajan\n",
    "#len(Trabajan)\n",
    "Trabajan = Trabajan.assign(cargo=\"trabajador\")\n",
    "\n",
    "for i in range(len(Buque)):\n",
    "    id_personal = int(buques_orig.iloc[i][\"id_capitan\"])\n",
    "    Trabajan[\"cargo\"].iloc[id_personal] = \"capitan\"\n",
    "\n",
    "# Imprime las últimas 5 tuplas\n",
    "#Trabajan.iloc[1638:]"
   ]
  },
  {
   "cell_type": "code",
   "execution_count": 171,
   "metadata": {},
   "outputs": [],
   "source": [
    "# Leemos archivo itinerarios.csv\n",
    "itinerarios_orig = pd.read_csv('itinerarios.csv')\n",
    "\n",
    "#itinerarios_orig.head(10)\n",
    "#itinerarios_orig.describe(include=\"all\")"
   ]
  },
  {
   "cell_type": "code",
   "execution_count": 172,
   "metadata": {},
   "outputs": [],
   "source": [
    "# Atraque son las tuplas con fecha_salida no nulo\n",
    "Atraque = itinerarios_orig[itinerarios_orig['fecha_salida'].notna()]\n",
    "#len(Atraque)"
   ]
  },
  {
   "cell_type": "code",
   "execution_count": 173,
   "metadata": {},
   "outputs": [],
   "source": [
    "# Itinerario son las tuplas con fecha_salida nulo\n",
    "Itinerario = itinerarios_orig[itinerarios_orig['fecha_salida'].isna()]\n",
    "del Itinerario[\"fecha_salida\"]\n",
    "#Itinerario"
   ]
  },
  {
   "cell_type": "code",
   "execution_count": 174,
   "metadata": {},
   "outputs": [],
   "source": [
    "# Quitamos id_buque de tabla personal\n",
    "Personal = personal_orig\n",
    "del Personal[\"id_buque\"]"
   ]
  },
  {
   "cell_type": "code",
   "execution_count": 175,
   "metadata": {},
   "outputs": [],
   "source": [
    "IdPersonalPasaporte = personal_orig[['id_personal','pasaporte']]\n",
    "IdPersonalNombre = personal_orig[['id_personal','nombre']]\n",
    "IdBuquePatente = Buque[['id_buque','patente']]\n",
    "IdBuqueNombre = Buque[['id_buque','nombre']]"
   ]
  },
  {
   "cell_type": "code",
   "execution_count": 176,
   "metadata": {},
   "outputs": [],
   "source": [
    "del Personal[\"pasaporte\"]\n",
    "del Personal[\"nombre\"]\n",
    "del Buque[\"patente\"]\n",
    "del Buque[\"nombre\"]"
   ]
  },
  {
   "cell_type": "code",
   "execution_count": 177,
   "metadata": {},
   "outputs": [],
   "source": [
    "Buque.to_csv('../tablas/Buque.csv', index=False)\n",
    "Naviera.to_csv('../tablas/Naviera.csv', index=False)\n",
    "BuquePesquero.to_csv('../tablas/BuquePesquero.csv', index=False)\n",
    "BuqueCarga.to_csv('../tablas/BuqueCarga.csv', index=False)\n",
    "BuquePetrolero.to_csv('../tablas/BuquePetrolero.csv', index=False)\n",
    "Personal.to_csv('../tablas/Personal.csv', index=False)\n",
    "Tiene.to_csv('../tablas/Tiene.csv', index=False)\n",
    "Trabajan.to_csv('../tablas/Trabajan.csv', index=False)\n",
    "Atraque.to_csv('../tablas/Atraque.csv', index=False)\n",
    "Itinerario.to_csv('../tablas/Itinerario.csv', index=False)\n",
    "IdPersonalPasaporte.to_csv('../tablas/IdPersonalPasaporte.csv', index=False)\n",
    "IdPersonalNombre.to_csv('../tablas/IdPersonalNombre.csv', index=False)\n",
    "IdBuquePatente.to_csv('../tablas/IdBuquePatente.csv', index=False)\n",
    "IdBuqueNombre.to_csv('../tablas/IdBuqueNombre.csv', index=False)"
   ]
  },
  {
   "cell_type": "code",
   "execution_count": null,
   "metadata": {},
   "outputs": [],
   "source": []
  },
  {
   "cell_type": "code",
   "execution_count": null,
   "metadata": {},
   "outputs": [],
   "source": []
  },
  {
   "cell_type": "code",
   "execution_count": null,
   "metadata": {},
   "outputs": [],
   "source": []
  }
 ],
 "metadata": {
  "kernelspec": {
   "display_name": "Python 3",
   "language": "python",
   "name": "python3"
  },
  "language_info": {
   "codemirror_mode": {
    "name": "ipython",
    "version": 3
   },
   "file_extension": ".py",
   "mimetype": "text/x-python",
   "name": "python",
   "nbconvert_exporter": "python",
   "pygments_lexer": "ipython3",
   "version": "3.7.4"
  }
 },
 "nbformat": 4,
 "nbformat_minor": 4
}
