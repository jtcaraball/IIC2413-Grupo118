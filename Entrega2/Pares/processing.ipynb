{
 "cells": [
  {
   "cell_type": "code",
   "execution_count": 53,
   "metadata": {},
   "outputs": [],
   "source": [
    "import numpy as np\n",
    "import pandas as pd"
   ]
  },
  {
   "cell_type": "code",
   "execution_count": 54,
   "metadata": {},
   "outputs": [],
   "source": [
    "# Leemos archivo personal_buque.csv\n",
    "personal_orig = pd.read_csv('personal_buque.csv')\n",
    "#personal_orig.head(5)"
   ]
  },
  {
   "cell_type": "code",
   "execution_count": 55,
   "metadata": {},
   "outputs": [],
   "source": [
    "# Leemos archivo buques.csv\n",
    "buques_orig = pd.read_csv('buques.csv')\n",
    "\n",
    "# Eliminamos el espacio del nombre de la columna nombre_naviera\n",
    "buques_orig.rename(columns = {' nombre_naviera': 'nombre_naviera'}, inplace = True)\n",
    "\n",
    "#buques_orig.head(5)"
   ]
  },
  {
   "cell_type": "code",
   "execution_count": 56,
   "metadata": {},
   "outputs": [],
   "source": [
    "# Formamos la tabla Naviera\n",
    "Naviera = buques_orig[['nombre_naviera','pais_naviera', 'descripcion_naviera']]\n",
    "\n",
    "#Naviera.head(5)\n",
    "#Naviera.dtypes\n",
    "#Naviera.describe()"
   ]
  },
  {
   "cell_type": "code",
   "execution_count": 57,
   "metadata": {},
   "outputs": [],
   "source": [
    "# Eliminamos filas duplicadas de naviera\n",
    "Naviera = Naviera.drop_duplicates()\n",
    "# Confirmamos que nombre_naviera es llave\n",
    "#Naviera.describe()"
   ]
  },
  {
   "cell_type": "code",
   "execution_count": 58,
   "metadata": {},
   "outputs": [],
   "source": [
    "Buque = buques_orig[['id_buque','nombre', 'patente', 'pais']]\n",
    "# Cantidad de tuplas es 250\n",
    "#len(Buque)"
   ]
  },
  {
   "cell_type": "code",
   "execution_count": 59,
   "metadata": {},
   "outputs": [],
   "source": [
    "# Nombres de columnas\n",
    "#buques_orig.dtypes"
   ]
  },
  {
   "cell_type": "code",
   "execution_count": 60,
   "metadata": {},
   "outputs": [],
   "source": [
    "# Eliminamos filas duplicadas de buques\n",
    "Buque = Buque.drop_duplicates()\n",
    "# No había filas duplicadas\n",
    "#len(Buque)"
   ]
  },
  {
   "cell_type": "code",
   "execution_count": 61,
   "metadata": {},
   "outputs": [],
   "source": [
    "BuquePesquero = buques_orig[['id_buque','tipo', 'tipo_pesca']]\n",
    "#BuquePesquero.head(10)"
   ]
  },
  {
   "cell_type": "code",
   "execution_count": 62,
   "metadata": {},
   "outputs": [],
   "source": [
    "indexNames = BuquePesquero[ BuquePesquero['tipo'] != 'pesquero' ].index"
   ]
  },
  {
   "cell_type": "code",
   "execution_count": 63,
   "metadata": {},
   "outputs": [],
   "source": [
    "BuquePesquero.drop(indexNames, inplace=True)\n",
    "#BuquePesquero.head(10)"
   ]
  },
  {
   "cell_type": "code",
   "execution_count": 64,
   "metadata": {},
   "outputs": [],
   "source": [
    "# Hay 91 buques pesqueros\n",
    "#len(BuquePesquero)\n",
    "# Hay 6 tipos de pesca, moda hilo con frecuencia 20\n",
    "#BuquePesquero.describe(include=\"all\")"
   ]
  },
  {
   "cell_type": "code",
   "execution_count": 65,
   "metadata": {},
   "outputs": [],
   "source": [
    "BuqueCarga = buques_orig[['id_buque','tipo', 'max_containers', 'max_ton']]\n",
    "indexNames = BuqueCarga[ BuqueCarga['tipo'] != 'carga' ].index\n",
    "BuqueCarga.drop(indexNames, inplace=True)\n",
    "#BuqueCarga.head(10)"
   ]
  },
  {
   "cell_type": "code",
   "execution_count": 66,
   "metadata": {},
   "outputs": [],
   "source": [
    "# Hay 74 buques de carga\n",
    "#len(BuqueCarga)\n",
    "#BuqueCarga.describe(include=\"all\")"
   ]
  },
  {
   "cell_type": "code",
   "execution_count": 67,
   "metadata": {},
   "outputs": [],
   "source": [
    "BuquePetrolero = buques_orig[['id_buque','tipo', 'max_lit']]\n",
    "indexNames = BuquePetrolero[ BuquePetrolero['tipo'] != 'petrolero' ].index\n",
    "BuquePetrolero.drop(indexNames, inplace=True)\n",
    "#BuquePetrolero.head(10)"
   ]
  },
  {
   "cell_type": "code",
   "execution_count": 68,
   "metadata": {},
   "outputs": [],
   "source": [
    "Tiene = buques_orig[['id_buque','nombre_naviera']]"
   ]
  },
  {
   "cell_type": "code",
   "execution_count": 69,
   "metadata": {},
   "outputs": [],
   "source": [
    "Trabajan = personal_orig[['id_personal', 'id_buque']]\n",
    "# Hay 1643 relaciones trabajan\n",
    "#len(Trabajan)\n",
    "Trabajan = Trabajan.assign(cargo=\"trabajador\")\n",
    "\n",
    "for i in range(len(Buque)):\n",
    "    id_personal = int(buques_orig.iloc[i][\"id_capitan\"])\n",
    "    Trabajan[\"cargo\"].iloc[id_personal] = \"capitan\"\n",
    "\n",
    "# Imprime las últimas 5 tuplas\n",
    "#Trabajan.iloc[1638:]"
   ]
  },
  {
   "cell_type": "code",
   "execution_count": 70,
   "metadata": {},
   "outputs": [],
   "source": [
    "# Leemos archivo itinerarios.csv\n",
    "itinerarios_orig = pd.read_csv('itinerarios.csv')\n",
    "\n",
    "#itinerarios_orig.head(10)\n",
    "#itinerarios_orig.describe(include=\"all\")"
   ]
  },
  {
   "cell_type": "code",
   "execution_count": 71,
   "metadata": {},
   "outputs": [],
   "source": [
    "# Atraque son las tuplas con fecha_salida no nulo\n",
    "Atraque = itinerarios_orig[itinerarios_orig['fecha_salida'].notna()]\n",
    "#len(Atraque)"
   ]
  },
  {
   "cell_type": "code",
   "execution_count": 72,
   "metadata": {},
   "outputs": [],
   "source": [
    "# Itinerario son las tuplas con fecha_salida nulo\n",
    "Itinerario = itinerarios_orig[itinerarios_orig['fecha_salida'].isna()]\n",
    "del Itinerario[\"fecha_salida\"]\n",
    "#Itinerario"
   ]
  },
  {
   "cell_type": "code",
   "execution_count": 73,
   "metadata": {},
   "outputs": [],
   "source": [
    "# Quitamos id_buque de tabla personal\n",
    "Personal = personal_orig\n",
    "del Personal[\"id_buque\"]"
   ]
  },
  {
   "cell_type": "code",
   "execution_count": 74,
   "metadata": {},
   "outputs": [],
   "source": [
    "IdRut = personal_orig[['id_personal','pasaporte']]\n",
    "IdPatente = Buque[['id_buque','patente']]"
   ]
  },
  {
   "cell_type": "code",
   "execution_count": 75,
   "metadata": {},
   "outputs": [],
   "source": [
    "del Personal[\"pasaporte\"]\n",
    "del Buque[\"patente\"]"
   ]
  },
  {
   "cell_type": "code",
   "execution_count": 76,
   "metadata": {},
   "outputs": [],
   "source": [
    "Buque.to_csv('../tablas/Buque.csv', index=False)\n",
    "Naviera.to_csv('../tablas/Naviera.csv', index=False)\n",
    "BuquePesquero.to_csv('../tablas/BuquePesquero.csv', index=False)\n",
    "BuqueCarga.to_csv('../tablas/BuqueCarga.csv', index=False)\n",
    "BuquePetrolero.to_csv('../tablas/BuquePetrolero.csv', index=False)\n",
    "Personal.to_csv('../tablas/Personal.csv', index=False)\n",
    "Tiene.to_csv('../tablas/Tiene.csv', index=False)\n",
    "Trabajan.to_csv('../tablas/Trabajan.csv', index=False)\n",
    "Atraque.to_csv('../tablas/Atraque.csv', index=False)\n",
    "Itinerario.to_csv('../tablas/Itinerario.csv', index=False)\n",
    "IdRut.to_csv('../tablas/IdRut.csv', index=False)\n",
    "IdPatente.to_csv('../tablas/IdPatente.csv', index=False)"
   ]
  },
  {
   "cell_type": "code",
   "execution_count": null,
   "metadata": {},
   "outputs": [],
   "source": []
  },
  {
   "cell_type": "code",
   "execution_count": null,
   "metadata": {},
   "outputs": [],
   "source": []
  },
  {
   "cell_type": "code",
   "execution_count": null,
   "metadata": {},
   "outputs": [],
   "source": []
  },
  {
   "cell_type": "code",
   "execution_count": null,
   "metadata": {},
   "outputs": [],
   "source": []
  }
 ],
 "metadata": {
  "kernelspec": {
   "display_name": "Python 3",
   "language": "python",
   "name": "python3"
  },
  "language_info": {
   "codemirror_mode": {
    "name": "ipython",
    "version": 3
   },
   "file_extension": ".py",
   "mimetype": "text/x-python",
   "name": "python",
   "nbconvert_exporter": "python",
   "pygments_lexer": "ipython3",
   "version": "3.7.4"
  }
 },
 "nbformat": 4,
 "nbformat_minor": 4
}
